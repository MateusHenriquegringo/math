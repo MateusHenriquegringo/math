{
  "nbformat": 4,
  "nbformat_minor": 0,
  "metadata": {
    "colab": {
      "provenance": [],
      "authorship_tag": "ABX9TyOHRpU6Za+uItAwujGoOL++",
      "include_colab_link": true
    },
    "kernelspec": {
      "name": "python3",
      "display_name": "Python 3"
    },
    "language_info": {
      "name": "python"
    }
  },
  "cells": [
    {
      "cell_type": "markdown",
      "metadata": {
        "id": "view-in-github",
        "colab_type": "text"
      },
      "source": [
        "<a href=\"https://colab.research.google.com/github/MateusHenriquegringo/math/blob/main/matematica.ipynb\" target=\"_parent\"><img src=\"https://colab.research.google.com/assets/colab-badge.svg\" alt=\"Open In Colab\"/></a>"
      ]
    },
    {
      "cell_type": "code",
      "source": [],
      "metadata": {
        "id": "hlVHuLToJiHN"
      },
      "execution_count": null,
      "outputs": []
    },
    {
      "cell_type": "code",
      "execution_count": null,
      "metadata": {
        "colab": {
          "base_uri": "https://localhost:8080/"
        },
        "id": "zZ1lArz1PCXR",
        "outputId": "ed9ce710-7c1a-48f4-c1c7-94706314f833"
      },
      "outputs": [
        {
          "output_type": "stream",
          "name": "stdout",
          "text": [
            "digite um numero:2\n",
            "o numero binario é:10\n"
          ]
        }
      ],
      "source": [
        "num = int(input('digite um numero:'))\n",
        "binario= ''\n",
        "while num > 0:\n",
        " binario += str(num%2)\n",
        " num = num//2\n",
        "print (f'o numero binario é:{binario[::-1]}')"
      ]
    },
    {
      "cell_type": "code",
      "source": [
        "import matplotlib.pyplot as plt\n",
        "x = [0,1,2,3,4,5]\n",
        "y = [0, 5 , 10, 15, 20, 25]\n",
        "plt.plot(x,y)\n",
        "plt.show()"
      ],
      "metadata": {
        "colab": {
          "base_uri": "https://localhost:8080/",
          "height": 265
        },
        "id": "u2MvOVaAYoz9",
        "outputId": "edd3d964-5a66-4855-c4b0-652cd9f8509e"
      },
      "execution_count": null,
      "outputs": [
        {
          "output_type": "display_data",
          "data": {
            "text/plain": [
              "<Figure size 432x288 with 1 Axes>"
            ],
            "image/png": "[encoded data removed]"
          },
          "metadata": {
            "needs_background": "light"
          }
        }
      ]
    },
    {
      "cell_type": "code",
      "source": [],
      "metadata": {
        "id": "9chcGjlFfdeE"
      },
      "execution_count": null,
      "outputs": []
    },
    {
      "cell_type": "code",
      "source": [
        "import matplotlib.pyplot as plt\n",
        "import numpy as np\n",
        "x= np.linspace(0, 10, 100) # 0 é valor inicial, 10 o valor final, 100 é a quantidade de valores\n",
        "y= 28*x\n",
        "plt.plot(x,y)\n",
        "plt.show()\n",
        "#FUNÇÃO LINEAR"
      ],
      "metadata": {
        "colab": {
          "base_uri": "https://localhost:8080/",
          "height": 265
        },
        "outputId": "416b14ba-9616-47ba-ab88-5c96bd82f8a0",
        "id": "fvL_d8kufdwn"
      },
      "execution_count": null,
      "outputs": [
        {
          "output_type": "display_data",
          "data": {
            "text/plain": [
              "<Figure size 432x288 with 1 Axes>"
            ],
            "image/png": "[encoded data removed]"
          },
          "metadata": {
            "needs_background": "light"
          }
        }
      ]
    },
    {
      "cell_type": "code",
      "source": [
        "a = 10\n",
        "b = -150\n",
        "c = 300\n",
        "xv = -b/(2*a)\n",
        "yv = -(b**2 - 4*a*c)/(4*a)\n",
        "print(xv, yv)"
      ],
      "metadata": {
        "colab": {
          "base_uri": "https://localhost:8080/"
        },
        "id": "PHhycSitXE2i",
        "outputId": "18006dc4-c295-4e34-b587-3608a6824b87"
      },
      "execution_count": null,
      "outputs": [
        {
          "output_type": "stream",
          "name": "stdout",
          "text": [
            "7.5 -262.5\n"
          ]
        }
      ]
    },
    {
      "cell_type": "code",
      "source": [
        "a = hex(9192)\n",
        "print(a)"
      ],
      "metadata": {
        "colab": {
          "base_uri": "https://localhost:8080/"
        },
        "id": "tHjClPo8Y9SW",
        "outputId": "8d0c87bc-1629-4131-ee92-72f696ae1637"
      },
      "execution_count": null,
      "outputs": [
        {
          "output_type": "stream",
          "name": "stdout",
          "text": [
            "0x23e8\n"
          ]
        }
      ]
    },
    {
      "cell_type": "code",
      "source": [
        "#POLINOMIOS\n",
        "import matplotlib.pyplot as plt\n",
        "from scipy.interpolate import*\n",
        "\n",
        "x = [0, 3, 6]\n",
        "y = [0, 2, 0]\n",
        "p = lagrange(x,y)\n",
        "print (p)\n",
        "\n",
        "plt.plot(p)\n",
        "plt.show()"
      ],
      "metadata": {
        "colab": {
          "base_uri": "https://localhost:8080/",
          "height": 303
        },
        "id": "b2mKOwI_2FrO",
        "outputId": "3e1f8e6c-2c31-47c1-8eb0-030c7a904f22"
      },
      "execution_count": null,
      "outputs": [
        {
          "output_type": "stream",
          "name": "stdout",
          "text": [
            "         2\n",
            "-0.2222 x + 1.333 x\n"
          ]
        },
        {
          "output_type": "display_data",
          "data": {
            "text/plain": [
              "<Figure size 432x288 with 1 Axes>"
            ],
            "image/png": "[encoded data removed]"
          },
          "metadata": {
            "needs_background": "light"
          }
        }
      ]
    },
    {
      "cell_type": "code",
      "source": [
        "from scipy.interpolate import*\n",
        "\n",
        "a = [0,5,8]\n",
        "b = [6,2,15]\n",
        "\n",
        "p = lagrange(a,b)\n",
        "print (p)"
      ],
      "metadata": {
        "colab": {
          "base_uri": "https://localhost:8080/"
        },
        "id": "B7HU7wuwKcBc",
        "outputId": "230326af-f28b-461d-cfa3-3b806f6c8f53"
      },
      "execution_count": null,
      "outputs": [
        {
          "output_type": "stream",
          "name": "stdout",
          "text": [
            "        2\n",
            "0.6417 x - 4.008 x + 6\n"
          ]
        }
      ]
    },
    {
      "cell_type": "code",
      "source": [
        "#transformar inteiro em binario\n",
        "bin(25)\n",
        "#hexadecimal correspondente ao decimal\n",
        "hex(12001)"
      ],
      "metadata": {
        "colab": {
          "base_uri": "https://localhost:8080/",
          "height": 35
        },
        "id": "O2ygomwIVrgW",
        "outputId": "9eb2a7ab-b384-4c6f-b29d-3cd07868d936"
      },
      "execution_count": null,
      "outputs": [
        {
          "output_type": "execute_result",
          "data": {
            "text/plain": [
              "'0x2ee1'"
            ],
            "application/vnd.google.colaboratory.intrinsic+json": {
              "type": "string"
            }
          },
          "metadata": {},
          "execution_count": 7
        }
      ]
    },
    {
      "cell_type": "code",
      "source": [
        "from scipy.interpolate import*\n",
        "a = (0,2,4)\n",
        "b = (0,4,16)\n",
        "p = lagrange(a,b)\n",
        "print(p)"
      ],
      "metadata": {
        "colab": {
          "base_uri": "https://localhost:8080/"
        },
        "id": "hLDo-9LOK3Cn",
        "outputId": "c8f7a52d-0fe8-4fa7-acaf-81bae9b6e964"
      },
      "execution_count": null,
      "outputs": [
        {
          "output_type": "stream",
          "name": "stdout",
          "text": [
            "   2\n",
            "1 x\n"
          ]
        }
      ]
    },
    {
      "cell_type": "code",
      "source": [
        "#NOTAÇÃO CIENTIFICA\n",
        "a = 3242\n",
        "print ('%.3e'% a)"
      ],
      "metadata": {
        "colab": {
          "base_uri": "https://localhost:8080/"
        },
        "id": "BniJuzCwVOR2",
        "outputId": "f0b2c167-a327-4a05-96e9-1978825c6c5c"
      },
      "execution_count": null,
      "outputs": [
        {
          "output_type": "stream",
          "name": "stdout",
          "text": [
            "3.242e+03\n"
          ]
        }
      ]
    },
    {
      "cell_type": "code",
      "source": [
        "a = 0.23241\n",
        "print('%.4e'% a)"
      ],
      "metadata": {
        "colab": {
          "base_uri": "https://localhost:8080/"
        },
        "id": "hB9R-mBgaPMB",
        "outputId": "7e608bf2-3d02-4193-c334-d82af375cb1a"
      },
      "execution_count": null,
      "outputs": [
        {
          "output_type": "stream",
          "name": "stdout",
          "text": [
            "2.3241e-01\n"
          ]
        }
      ]
    },
    {
      "cell_type": "code",
      "source": [
        "a = 458189\n",
        "print('%.10e'%a)"
      ],
      "metadata": {
        "colab": {
          "base_uri": "https://localhost:8080/"
        },
        "id": "VVBajVvUahMe",
        "outputId": "ea462a2d-198c-4ee9-ae15-c9650fb2c6ca"
      },
      "execution_count": null,
      "outputs": [
        {
          "output_type": "stream",
          "name": "stdout",
          "text": [
            "5.40e-06\n"
          ]
        }
      ]
    },
    {
      "cell_type": "code",
      "source": [
        "#soma\n",
        "a = 7.0102e+5\n",
        "b = 2.1233e+3\n",
        "c = a * b\n",
        "print('%.10e'%c)"
      ],
      "metadata": {
        "colab": {
          "base_uri": "https://localhost:8080/"
        },
        "id": "rDmJh-FTbYwg",
        "outputId": "5f3eb419-3d9b-4cbf-b118-4b2b23e66041"
      },
      "execution_count": null,
      "outputs": [
        {
          "output_type": "stream",
          "name": "stdout",
          "text": [
            "1.4884757660e+09\n"
          ]
        }
      ]
    },
    {
      "cell_type": "code",
      "source": [
        "a = 0.5672\n",
        "b = 0.5500\n",
        "c = a - b\n",
        "print(c)\n",
        "d = c/a\n",
        "d = d*100\n",
        "print(d)\n",
        "# c é o erro absoluto\n",
        "# d é o erro relativo (3%)"
      ],
      "metadata": {
        "colab": {
          "base_uri": "https://localhost:8080/"
        },
        "id": "76tVkf2uEru1",
        "outputId": "ff730623-d898-4afd-b83f-3b47c6c47ef5"
      },
      "execution_count": null,
      "outputs": [
        {
          "output_type": "stream",
          "name": "stdout",
          "text": [
            "0.017199999999999993\n",
            "3.032440056417488\n"
          ]
        }
      ]
    },
    {
      "cell_type": "code",
      "source": [
        "#multiplicação\n",
        "a = 2.3421e+2\n",
        "b = 3.5154e+2\n",
        "c = a*b\n",
        "print ('%.10e'%c)"
      ],
      "metadata": {
        "colab": {
          "base_uri": "https://localhost:8080/"
        },
        "id": "o_BhwRQrj1nd",
        "outputId": "87365b93-c519-44a4-ab84-1215e11819eb"
      },
      "execution_count": null,
      "outputs": [
        {
          "output_type": "stream",
          "name": "stdout",
          "text": [
            "6.6623997269e-01\n"
          ]
        }
      ]
    },
    {
      "cell_type": "code",
      "source": [
        "#vetores\n",
        "import numpy as np\n",
        "v = np.array([[2,4,5,9]])\n",
        "print(v)"
      ],
      "metadata": {
        "colab": {
          "base_uri": "https://localhost:8080/"
        },
        "id": "vpNF8zhuanvg",
        "outputId": "85fc4eea-5a21-47b0-9e6e-5ffce0ae7f1a"
      },
      "execution_count": null,
      "outputs": [
        {
          "output_type": "stream",
          "name": "stdout",
          "text": [
            "[[2 4 5 9]]\n"
          ]
        }
      ]
    },
    {
      "cell_type": "code",
      "source": [
        "import numpy as np\n",
        "v = np.array([[22,12,54,89,11]])\n",
        "w = v * 5\n",
        "u = np.array([[18,4,39,61,8]])\n",
        "m = v-u\n",
        "t = np.array([[3,2,1,4,1]])\n",
        "precoFinal = v + t\n",
        "print(precoFinal)"
      ],
      "metadata": {
        "colab": {
          "base_uri": "https://localhost:8080/"
        },
        "id": "jTqSMHKTeuS8",
        "outputId": "2810c294-ebbf-4dd0-fb14-d02b153bed5b"
      },
      "execution_count": null,
      "outputs": [
        {
          "output_type": "stream",
          "name": "stdout",
          "text": [
            "[[25 14 55 93 12]]\n"
          ]
        }
      ]
    },
    {
      "cell_type": "code",
      "source": [
        "import numpy as np\n",
        "v = np.array([[30,28,12,12,56,97]])\n",
        "m = v * 3\n",
        "print(m)"
      ],
      "metadata": {
        "colab": {
          "base_uri": "https://localhost:8080/"
        },
        "id": "Mk2u-wYsDIyi",
        "outputId": "0b46420a-0385-43ef-a617-e4c4564ece7e"
      },
      "execution_count": null,
      "outputs": [
        {
          "output_type": "stream",
          "name": "stdout",
          "text": [
            "[[ 90  84  36  36 168 291]]\n"
          ]
        }
      ]
    },
    {
      "cell_type": "code",
      "source": [
        "import numpy as np\n",
        "v = np.array([[138.40,86.70,90.90,234.90,107.70]])\n",
        "u = v * 5.10\n",
        "print(u)"
      ],
      "metadata": {
        "colab": {
          "base_uri": "https://localhost:8080/"
        },
        "id": "nEaJRGerHe_X",
        "outputId": "b360065b-62ed-45fc-98d6-070015de7759"
      },
      "execution_count": null,
      "outputs": [
        {
          "output_type": "stream",
          "name": "stdout",
          "text": [
            "[[ 705.84  442.17  463.59 1197.99  549.27]]\n"
          ]
        }
      ]
    },
    {
      "cell_type": "code",
      "source": [
        "import numpy as np\n",
        "notas = np.array([[]])\n",
        "pesos = np.array([[0.2,0.2,0.3,0.3]])\n",
        "media = np.inner(notas, pesos)\n",
        "print(media)"
      ],
      "metadata": {
        "colab": {
          "base_uri": "https://localhost:8080/"
        },
        "id": "1pBcWJmBok5Y",
        "outputId": "59655ba8-7978-4593-9eb8-72c7b4fcd3d3"
      },
      "execution_count": null,
      "outputs": [
        {
          "output_type": "stream",
          "name": "stdout",
          "text": [
            "[[86.]]\n"
          ]
        }
      ]
    },
    {
      "cell_type": "code",
      "source": [
        "import numpy as np\n",
        "u = np.array([[3,6,-1]])\n",
        "v = np.array([[11,14,9]])\n",
        "w = np.inner(u,v)\n",
        "print(w)"
      ],
      "metadata": {
        "colab": {
          "base_uri": "https://localhost:8080/"
        },
        "id": "E4QZDt6NIgfs",
        "outputId": "4cd56d79-4047-4f92-e736-79d7ceeb8fa9"
      },
      "execution_count": null,
      "outputs": [
        {
          "output_type": "stream",
          "name": "stdout",
          "text": [
            "[[108]]\n"
          ]
        }
      ]
    },
    {
      "cell_type": "code",
      "source": [
        "#matrizes\n",
        "import numpy as np\n",
        "f1 = np.array ([[400,10],[480,12],[600,15]])\n",
        "f1 = 1.1*f1\n",
        "print(f1)\n"
      ],
      "metadata": {
        "colab": {
          "base_uri": "https://localhost:8080/"
        },
        "id": "9Y-KjDm5rkFB",
        "outputId": "bc4cec84-4d98-4a06-dfa3-634b0249ff8e"
      },
      "execution_count": null,
      "outputs": [
        {
          "output_type": "stream",
          "name": "stdout",
          "text": [
            "[[440.   11. ]\n",
            " [528.   13.2]\n",
            " [660.   16.5]]\n"
          ]
        }
      ]
    },
    {
      "cell_type": "code",
      "source": [
        "#multiplicação de matrizes\n",
        "import numpy as np\n",
        "a = np.array([[3,1,3],[6,5,5]])\n",
        "b = np.array([[100,50],[50,100],[50,50]])\n",
        "c = np.matmul (a,b)\n",
        "print(c)"
      ],
      "metadata": {
        "colab": {
          "base_uri": "https://localhost:8080/"
        },
        "id": "ZxPdUFua1eiU",
        "outputId": "0987fbf3-13d8-4de3-ff66-8c10001ed10b"
      },
      "execution_count": null,
      "outputs": [
        {
          "output_type": "stream",
          "name": "stdout",
          "text": [
            "[[ 500  400]\n",
            " [1100 1050]]\n"
          ]
        }
      ]
    },
    {
      "cell_type": "code",
      "source": [
        "import pandas as pd\n",
        "x={'pesos':[8,7,9,10,2,7,9,10,9,3,8,5]}\n",
        "p = pd.DataFrame(x)\n",
        "\n",
        "media = p['pesos'].mean()\n",
        "moda = p['pesos'].mode()\n",
        "mediana = p['pesos'].median()\n",
        "print ('media:',media, 'moda:',moda,'mediana:', mediana)\n",
        "\n"
      ],
      "metadata": {
        "colab": {
          "base_uri": "https://localhost:8080/"
        },
        "id": "dd8TBN13ZyWq",
        "outputId": "520717f8-8d2b-4b72-d3be-e42eb62fa7f5"
      },
      "execution_count": null,
      "outputs": [
        {
          "output_type": "stream",
          "name": "stdout",
          "text": [
            "media: 7.25 moda: 0    9\n",
            "Name: pesos, dtype: int64 mediana: 8.0\n"
          ]
        }
      ]
    },
    {
      "cell_type": "code",
      "source": [
        "import pandas as pd\n",
        "x={'mbps':[67.8,78.6,54.4,98.6,99.4,130.8,142.6,161.6,142.5,158.4]}\n",
        "p = pd.DataFrame(x)\n",
        "\n",
        "media = p['mbps'].mean()\n",
        "desviopadrao = p['mbps'].std()\n",
        "print ('desvio:',desviopadrao)\n"
      ],
      "metadata": {
        "colab": {
          "base_uri": "https://localhost:8080/"
        },
        "id": "f5PG0HqZHvkz",
        "outputId": "9fff69b0-a723-4e4a-ebbc-8a3fd7db1536"
      },
      "execution_count": null,
      "outputs": [
        {
          "output_type": "stream",
          "name": "stdout",
          "text": [
            "desvio: 38.78264359793495\n"
          ]
        }
      ]
    },
    {
      "cell_type": "code",
      "source": [
        "import pandas as pd\n",
        "x={'pesos':[8,7,9,10,2,7,9,10,9,3,8,5]}\n",
        "p = pd.DataFrame(x)\n",
        "desviopadrao = p['pesos'].std()\n",
        "print(desviopadrao)"
      ],
      "metadata": {
        "id": "iDwcVNDetwgP",
        "colab": {
          "base_uri": "https://localhost:8080/"
        },
        "outputId": "cfa8c0bf-39d0-422c-c286-7ae8547b35c7"
      },
      "execution_count": null,
      "outputs": [
        {
          "output_type": "stream",
          "name": "stdout",
          "text": [
            "2.6328346286499236\n"
          ]
        }
      ]
    },
    {
      "cell_type": "code",
      "source": [
        "#estatistica indutiva\n",
        "from math import ceil\n",
        "N = 150000 #população\n",
        "e = 0.02 #pordentagem de amostra\n",
        "n = ceil(N/(1+N*e**2))\n",
        "print (n) #amostra"
      ],
      "metadata": {
        "colab": {
          "base_uri": "https://localhost:8080/"
        },
        "id": "RcZlwR55wXgR",
        "outputId": "a02e39c5-b7c6-4d83-af34-254df9074342"
      },
      "execution_count": null,
      "outputs": [
        {
          "output_type": "stream",
          "name": "stdout",
          "text": [
            "2460\n"
          ]
        }
      ]
    },
    {
      "cell_type": "code",
      "source": [
        "import scipy.stats\n",
        "media= 12000\n",
        "desvio_padrao= 800\n",
        "X= 13000\n",
        "p=scipy.stats.norm(media,desvio_padrao).cdf(X)-0.5\n",
        "print(p)"
      ],
      "metadata": {
        "colab": {
          "base_uri": "https://localhost:8080/"
        },
        "id": "4i0oDShA4bF-",
        "outputId": "01cadcc5-0b7a-451f-d7f3-a5fec1139705"
      },
      "execution_count": null,
      "outputs": [
        {
          "output_type": "stream",
          "name": "stdout",
          "text": [
            "0.39435022633314465\n"
          ]
        }
      ]
    },
    {
      "cell_type": "code",
      "source": [
        "from numpy import pi\n",
        "from math import factorial\n",
        "x_graus=float(input('Informe o valor do ângulo, em graus: '))\n",
        "x_radianos=pi*x_graus/180\n",
        "cosseno=0\n",
        "for n in range(10):\n",
        "  cosseno=cosseno+(-1)**n*x_radianos**(2*n)/factorial(2*n)\n",
        "print(cosseno)"
      ],
      "metadata": {
        "colab": {
          "base_uri": "https://localhost:8080/"
        },
        "id": "J8wxpHjKLzbo",
        "outputId": "d21141b0-88b2-4082-ac69-5e0b30625115"
      },
      "execution_count": null,
      "outputs": [
        {
          "output_type": "stream",
          "name": "stdout",
          "text": [
            "Informe o valor do ângulo, em graus: 30\n",
            "0.8660254037844386\n"
          ]
        }
      ]
    }
  ]
}